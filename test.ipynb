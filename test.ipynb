{
 "cells": [
  {
   "cell_type": "code",
   "execution_count": 3,
   "source": [
    "from wiktionaryparser import WiktionaryParser\n",
    "parser = WiktionaryParser()"
   ],
   "outputs": [],
   "metadata": {}
  },
  {
   "cell_type": "code",
   "execution_count": 10,
   "source": [
    "word = parser.fetch('hello', 'english')"
   ],
   "outputs": [],
   "metadata": {}
  },
  {
   "cell_type": "code",
   "execution_count": 5,
   "source": [
    "for item in word[0]['definitions']:\n",
    "    item['partOfSpeech'], item['text']"
   ],
   "outputs": [],
   "metadata": {}
  },
  {
   "cell_type": "code",
   "execution_count": 11,
   "source": [
    "word[0]"
   ],
   "outputs": [
    {
     "output_type": "execute_result",
     "data": {
      "text/plain": [
       "{'etymology': 'Hello (first attested in 1826), from holla, hollo (attested 1588). This variant of hallo is often credited to Thomas Edison as a coinage for telephone use, but its appearance in print predates the invention of the telephone by several decades.\\nUltimately from a variant of Old English ēalā, such as hēlā, which was used colloquially at the time similarly to how hey and hi are used nowadays. Thus, equivalent to a compound of hey and lo. Used when drawing attention to yourself.\\nPossibly influenced by Old Saxon halo!, imperative of halōn (“to call, fetch”), used in hailing a ferryman, akin to Old High German hala, hola!, imperative forms of halōn, holōn (“to fetch”). More at hallo.\\n',\n",
       " 'definitions': [{'partOfSpeech': 'interjection',\n",
       "   'text': ['hello',\n",
       "    'A greeting (salutation) said when meeting someone or acknowledging someone’s arrival or presence.',\n",
       "    'A greeting used when answering the telephone.',\n",
       "    'A call for response if it is not clear if anyone is present or listening, or if a telephone conversation may have been disconnected.',\n",
       "    '(colloquial) Used sarcastically to imply that the person addressed or referred to has done something the speaker or writer considers to be foolish.',\n",
       "    '(chiefly Britain) An expression of puzzlement or discovery.'],\n",
       "   'relatedWords': [{'relationshipType': 'synonyms',\n",
       "     'words': [\"(greeting): See Thesaurus:hello(Australia, informal) g'day, hey, hi,(UK, informal) hallo, hi, hiya, ey up(US, informal) hallo, hey, hi, howdy(Ireland, informal) how's it going, hey, hi(South Africa, informal) howzit(slang) wassup, what's up, yo, sup, what's good\",\n",
       "      \"(Australia, informal) g'day, hey, hi,\",\n",
       "      '(UK, informal) hallo, hi, hiya, ey up',\n",
       "      '(US, informal) hallo, hey, hi, howdy',\n",
       "      \"(Ireland, informal) how's it going, hey, hi\",\n",
       "      '(South Africa, informal) howzit',\n",
       "      \"(slang) wassup, what's up, yo, sup, what's good\",\n",
       "      '(expression of puzzlement): See Thesaurus:wow']},\n",
       "    {'relationshipType': 'antonyms', 'words': ['(greeting): bye, goodbye']}],\n",
       "   'examples': ['Hello, everyone.',\n",
       "    'Hello? How may I help you?',\n",
       "    'Hello. This is Marsha. - Yes, Marsha.\\nAudio ',\n",
       "    'Audio ',\n",
       "    'Hello? Is anyone there?',\n",
       "    'I made a speaking trumpet of my hands and commenced to whoop “Ahoy!” and “Hello!” at the top of my lungs.  […]  The Colonel woke up, and, after asking what in brimstone was the matter, opened his mouth and roared “Hi!” and “Hello!” like the bull of Bashan.',\n",
       "    'You just tried to start your car with your cell phone. Hello?',\n",
       "    'Hello! What’s going on here?']},\n",
       "  {'partOfSpeech': 'noun',\n",
       "   'text': ['hello (plural hellos or helloes)',\n",
       "    '\"Hello!\" or an equivalent greeting.'],\n",
       "   'relatedWords': [{'relationshipType': 'synonyms', 'words': ['greeting']}],\n",
       "   'examples': ['In many new buildings, though, neighbors are venturing beyond tight-lipped hellos at the mailbox.']},\n",
       "  {'partOfSpeech': 'verb',\n",
       "   'text': ['hello (third-person singular simple present hellos, present participle helloing, simple past and past participle helloed)',\n",
       "    '(transitive) To greet with \"hello\".'],\n",
       "   'relatedWords': [],\n",
       "   'examples': ['I had to traipse around somewhat, helloing people and being helloed, before I spotted my mother and my father, sharing shade and a spread blanket with Pete and Marie Reese and Toussaint Rennie near the back of the park.']}],\n",
       " 'pronunciations': {'text': ['(UK) IPA: /həˈləʊ/, /hɛˈləʊ/',\n",
       "   \"(US) enPR: hĕ-lō', hə-lō', IPA: /hɛˈloʊ/, /həˈloʊ/, /ˈhɛloʊ/\"],\n",
       "  'audio': ['//upload.wikimedia.org/wikipedia/commons/4/48/En-uk-hello.ogg',\n",
       "   '//upload.wikimedia.org/wikipedia/commons/e/e9/En-au-hello.ogg']}}"
      ]
     },
     "metadata": {},
     "execution_count": 11
    }
   ],
   "metadata": {}
  }
 ],
 "metadata": {
  "orig_nbformat": 4,
  "language_info": {
   "name": "python",
   "version": "3.9.0",
   "mimetype": "text/x-python",
   "codemirror_mode": {
    "name": "ipython",
    "version": 3
   },
   "pygments_lexer": "ipython3",
   "nbconvert_exporter": "python",
   "file_extension": ".py"
  },
  "kernelspec": {
   "name": "python3",
   "display_name": "Python 3.9.0 64-bit"
  },
  "interpreter": {
   "hash": "7812ea015bdcee6f23a998adcdd2ef97c151c0c241b7b7070987d9313e41299d"
  }
 },
 "nbformat": 4,
 "nbformat_minor": 2
}